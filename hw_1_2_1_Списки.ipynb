{
  "nbformat": 4,
  "nbformat_minor": 0,
  "metadata": {
    "colab": {
      "provenance": [],
      "include_colab_link": true
    },
    "kernelspec": {
      "name": "python3",
      "display_name": "Python 3"
    },
    "language_info": {
      "name": "python"
    }
  },
  "cells": [
    {
      "cell_type": "markdown",
      "metadata": {
        "id": "view-in-github",
        "colab_type": "text"
      },
      "source": [
        "<a href=\"https://colab.research.google.com/github/Aniram2024/Python-for-Data-Analyses/blob/main/hw_1_2_1_%D0%A1%D0%BF%D0%B8%D1%81%D0%BA%D0%B8.ipynb\" target=\"_parent\"><img src=\"https://colab.research.google.com/assets/colab-badge.svg\" alt=\"Open In Colab\"/></a>"
      ]
    },
    {
      "cell_type": "markdown",
      "source": [
        "#Домашнє завдання до теми \"Списки\""
      ],
      "metadata": {
        "id": "XO6mRLe59D3H"
      }
    },
    {
      "cell_type": "markdown",
      "source": [
        "У нас є наступний список:"
      ],
      "metadata": {
        "id": "RK9HC3UZZ8HZ"
      }
    },
    {
      "cell_type": "code",
      "execution_count": 1,
      "metadata": {
        "id": "7eOLd__FZyZp"
      },
      "outputs": [],
      "source": [
        "my_list = [\n",
        "    78, 12, 14, 27, 47, 28, 51, 46, 94, 37, 42, 20, 52, 33, 11, 11, 51,\n",
        "    20, 81, 54, 86, 51, 38, 42, 49, 99, 76, 17,  9, 23, 97, 29, 29, 63,\n",
        "    40, 11, 31, 76, 15, 21, 29, 75, 35,  2, 10, 71, 17, 10, 13,  7, 44,\n",
        "    12, 19, 61, 13, 25, 62, 46, 10, 44, 75, 57, 20, 57,  3, 44, 16, 28,\n",
        "    79, 57, 62, 70, 95,  8, 47, 82, 80, 45, 36, 44, 79, 95, 73, 42, 29,\n",
        "    83, 80, 66, 56,  8, 73,  5, 99, 65, 65, 98, 17, 36, 16, 60\n",
        "]"
      ]
    },
    {
      "cell_type": "markdown",
      "source": [
        "Будемо з ним працювати в наступних завданнях."
      ],
      "metadata": {
        "id": "xRqI75kkZ_2A"
      }
    },
    {
      "cell_type": "markdown",
      "source": [
        "1. Виведіть 5 перших елементів списку `my_list` з допомогою слайсингу."
      ],
      "metadata": {
        "id": "MOuwDHIdaC3O"
      }
    },
    {
      "cell_type": "code",
      "source": [
        "my_list[:5]"
      ],
      "metadata": {
        "id": "Uypwuc8wZ_T2",
        "outputId": "c0c958ae-d7fa-42e8-f496-31b91c78bdc2",
        "colab": {
          "base_uri": "https://localhost:8080/"
        }
      },
      "execution_count": 3,
      "outputs": [
        {
          "output_type": "execute_result",
          "data": {
            "text/plain": [
              "[78, 12, 14, 27, 47]"
            ]
          },
          "metadata": {},
          "execution_count": 3
        }
      ]
    },
    {
      "cell_type": "markdown",
      "source": [
        "Очікувана відповідь: [78, 12, 14, 27, 47]"
      ],
      "metadata": {
        "id": "b5IeUxDHaGkb"
      }
    },
    {
      "cell_type": "markdown",
      "source": [
        "2. Виведіть 3 останніх елементи списку `my_list` з допомогою слайсингу."
      ],
      "metadata": {
        "id": "bNqAZFcJaJDR"
      }
    },
    {
      "cell_type": "code",
      "source": [
        "my_list[-3:]"
      ],
      "metadata": {
        "id": "15lgbiA4aIb3",
        "outputId": "8213250b-96d1-43e2-ddc2-e0bf92cabce2",
        "colab": {
          "base_uri": "https://localhost:8080/"
        }
      },
      "execution_count": 6,
      "outputs": [
        {
          "output_type": "execute_result",
          "data": {
            "text/plain": [
              "[36, 16, 60]"
            ]
          },
          "metadata": {},
          "execution_count": 6
        }
      ]
    },
    {
      "cell_type": "markdown",
      "source": [
        "3. Відсортуйте за зростанням список `my_list`, запишіть результат у змінну `my_list_sorted` та виведіть значення нової змінної на екран."
      ],
      "metadata": {
        "id": "SGhwxnmXaR3S"
      }
    },
    {
      "cell_type": "code",
      "source": [
        "my_list.sort()\n"
      ],
      "metadata": {
        "id": "IKgCwCIbaTpf"
      },
      "execution_count": 12,
      "outputs": []
    },
    {
      "cell_type": "code",
      "source": [
        "sorted(my_list)"
      ],
      "metadata": {
        "id": "lXuaTYtGwYBc",
        "outputId": "4bfc0bc3-ce25-4e22-e3c0-ba5469a2a38e",
        "colab": {
          "base_uri": "https://localhost:8080/"
        }
      },
      "execution_count": 14,
      "outputs": [
        {
          "output_type": "execute_result",
          "data": {
            "text/plain": [
              "[2,\n",
              " 3,\n",
              " 5,\n",
              " 7,\n",
              " 8,\n",
              " 8,\n",
              " 9,\n",
              " 10,\n",
              " 10,\n",
              " 10,\n",
              " 11,\n",
              " 11,\n",
              " 11,\n",
              " 12,\n",
              " 12,\n",
              " 13,\n",
              " 13,\n",
              " 14,\n",
              " 15,\n",
              " 16,\n",
              " 16,\n",
              " 17,\n",
              " 17,\n",
              " 17,\n",
              " 19,\n",
              " 20,\n",
              " 20,\n",
              " 20,\n",
              " 21,\n",
              " 23,\n",
              " 25,\n",
              " 27,\n",
              " 28,\n",
              " 28,\n",
              " 29,\n",
              " 29,\n",
              " 29,\n",
              " 29,\n",
              " 31,\n",
              " 33,\n",
              " 35,\n",
              " 36,\n",
              " 36,\n",
              " 37,\n",
              " 38,\n",
              " 40,\n",
              " 42,\n",
              " 42,\n",
              " 42,\n",
              " 44,\n",
              " 44,\n",
              " 44,\n",
              " 44,\n",
              " 45,\n",
              " 46,\n",
              " 46,\n",
              " 47,\n",
              " 47,\n",
              " 49,\n",
              " 51,\n",
              " 51,\n",
              " 51,\n",
              " 52,\n",
              " 54,\n",
              " 56,\n",
              " 57,\n",
              " 57,\n",
              " 57,\n",
              " 60,\n",
              " 61,\n",
              " 62,\n",
              " 62,\n",
              " 63,\n",
              " 65,\n",
              " 65,\n",
              " 66,\n",
              " 70,\n",
              " 71,\n",
              " 73,\n",
              " 73,\n",
              " 75,\n",
              " 75,\n",
              " 76,\n",
              " 76,\n",
              " 78,\n",
              " 79,\n",
              " 79,\n",
              " 80,\n",
              " 80,\n",
              " 81,\n",
              " 82,\n",
              " 83,\n",
              " 86,\n",
              " 94,\n",
              " 95,\n",
              " 95,\n",
              " 97,\n",
              " 98,\n",
              " 99,\n",
              " 99]"
            ]
          },
          "metadata": {},
          "execution_count": 14
        }
      ]
    },
    {
      "cell_type": "markdown",
      "source": [
        "4. Виведіть максимальний і мінімальний елемент у списку `my_list`. Сформуйте відповідь у наступному форматі\n",
        "```\n",
        "Max element  <число>\n",
        "Min element  <число>\n",
        "```\n",
        "Можна скористатись результатом з попереднього завдання, або спеціальними фукнціями."
      ],
      "metadata": {
        "id": "UuOFdraAaZhF"
      }
    },
    {
      "cell_type": "code",
      "source": [
        "Max_element = max(my_list)\n",
        "Min_element = min(my_list)"
      ],
      "metadata": {
        "id": "RNTpPnzayW4O"
      },
      "execution_count": 55,
      "outputs": []
    },
    {
      "cell_type": "code",
      "source": [
        "display (\n",
        "\n",
        "    max(my_list),\n",
        "    min(my_list))"
      ],
      "metadata": {
        "id": "FCQWRzAry7Oh",
        "outputId": "f1dc43fe-0582-4e17-e286-601b82a7d70b",
        "colab": {
          "base_uri": "https://localhost:8080/",
          "height": 52
        }
      },
      "execution_count": 48,
      "outputs": [
        {
          "output_type": "display_data",
          "data": {
            "text/plain": [
              "99"
            ]
          },
          "metadata": {}
        },
        {
          "output_type": "display_data",
          "data": {
            "text/plain": [
              "2"
            ]
          },
          "metadata": {}
        }
      ]
    },
    {
      "cell_type": "markdown",
      "source": [
        "Очікувана відповідь:\n",
        "\n",
        "```\n",
        "Max element  99\n",
        "Min element  2\n",
        "```"
      ],
      "metadata": {
        "id": "VeS0Lr88apNZ"
      }
    },
    {
      "cell_type": "markdown",
      "source": [
        "5. Створіть новий список `my_list_2`, який містить кожен 11-й елемент списку `my_list`. Виведіть `my_list_2` на екран.  \n",
        "Памʼятаємо, що перший з \"кожного одинадцятого елементу\" списку має індекс 10.\n",
        "Для виконання завдання використайте слайсинг."
      ],
      "metadata": {
        "id": "4xnVzP4fakvm"
      }
    },
    {
      "cell_type": "code",
      "source": [
        "my_list = list(range(100))"
      ],
      "metadata": {
        "id": "N-9jNutz4oyA"
      },
      "execution_count": 128,
      "outputs": []
    },
    {
      "cell_type": "code",
      "source": [
        "my_list_2 = my_list[10:100:11]"
      ],
      "metadata": {
        "id": "DtOkWvVgaas0"
      },
      "execution_count": 131,
      "outputs": []
    },
    {
      "cell_type": "code",
      "source": [
        "print(my_list_2)"
      ],
      "metadata": {
        "id": "K3nZrd_t4XMg",
        "outputId": "52181977-316d-4236-8ebc-44556f8b3f75",
        "colab": {
          "base_uri": "https://localhost:8080/"
        }
      },
      "execution_count": 132,
      "outputs": [
        {
          "output_type": "stream",
          "name": "stdout",
          "text": [
            "[10, 21, 32, 43, 54, 65, 76, 87, 98]\n"
          ]
        }
      ]
    },
    {
      "cell_type": "markdown",
      "source": [
        "Очікуваний результат: `[42, 51, 29, 2, 13, 44, 80, 66, 16]`"
      ],
      "metadata": {
        "id": "A-A6Mw_UbR8T"
      }
    }
  ]
}